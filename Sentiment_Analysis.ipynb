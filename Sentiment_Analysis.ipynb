{
  "nbformat": 4,
  "nbformat_minor": 0,
  "metadata": {
    "colab": {
      "provenance": [],
      "gpuType": "T4"
    },
    "kernelspec": {
      "name": "python3",
      "display_name": "Python 3"
    },
    "language_info": {
      "name": "python"
    },
    "accelerator": "GPU"
  },
  "cells": [
    {
      "cell_type": "markdown",
      "source": [
        "Summary of the code\n",
        "### Data Preparation and Preprocessing\n",
        "\n",
        "1. **Loading Data**:\n",
        "   - Reads a CSV file (`Tweets.csv`) containing tweets and their associated sentiment labels into a Pandas DataFrame (`df`).\n",
        "   - Selects only the 'text' and 'airline_sentiment' columns from the DataFrame.\n",
        "\n",
        "2. **Data Cleaning**:\n",
        "   - Drops any rows with missing values (`NaN`) from the DataFrame.\n",
        "\n",
        "3. **Label Encoding**:\n",
        "   - Uses `LabelEncoder` from Scikit-learn to convert categorical sentiment labels ('positive', 'neutral', 'negative') into numeric labels (`0`, `1`, `2`).\n",
        "\n",
        "4. **Train-Test Split**:\n",
        "   - Splits the dataset into training (`X_train`, `y_train`) and testing (`X_test`, `y_test`) sets using `train_test_split` from Scikit-learn.\n",
        "   - The text data (`X_train` and `X_test`) is used for training and evaluating the model, while `y_train` and `y_test` contain the corresponding numeric sentiment labels.\n",
        "\n",
        "### Text Tokenization and Padding\n",
        "\n",
        "5. **Tokenization**:\n",
        "   - Uses `Tokenizer` from Keras to tokenize the text data (`X_train`) and fit it on the training set.\n",
        "\n",
        "6. **Sequence Padding**:\n",
        "   - Converts the tokenized sequences (`X_train_seq` and `X_test_seq`) into sequences of uniform length (`max_seq_length`) using `pad_sequences` from Keras. This ensures all input sequences have the same length for model training.\n",
        "\n",
        "### Model Building\n",
        "\n",
        "7. **LSTM Model Definition**:\n",
        "   - Constructs a Sequential model (`model`) using Keras.\n",
        "   - Adds layers:\n",
        "     - Embedding layer for word embeddings.\n",
        "     - SpatialDropout1D layer for regularization.\n",
        "     - LSTM layer with dropout to learn from sequences.\n",
        "     - Dense layer with softmax activation for multi-class classification (3 classes: positive, neutral, negative).\n",
        "\n",
        "8. **Model Compilation**:\n",
        "   - Compiles the model with 'sparse_categorical_crossentropy' loss function for multi-class classification and 'adam' optimizer.\n",
        "   - Specifies 'accuracy' as the metric to monitor during training.\n",
        "\n",
        "### Model Training\n",
        "\n",
        "9. **Training**:\n",
        "   - Trains the LSTM model (`model`) on the training data (`X_train_pad`, `y_train`) for a specified number of epochs (`epochs`) and batch size (`batch_size`).\n",
        "   - Validates the model on the testing data (`X_test_pad`, `y_test`).\n",
        "\n",
        "10. **Model Evaluation**:\n",
        "    - Evaluates the trained model on the testing data and prints the test accuracy.\n",
        "\n",
        "11. **Model and Tokenizer Saving**:\n",
        "    - Saves the trained LSTM model (`model`) as a `.h5` file ('sentiment_lstm_model.h5').\n",
        "    - Saves the `Tokenizer` object (`tokenizer`) used for tokenization as a pickle file ('tokenizer.pickle').\n",
        "\n",
        "### Sentiment Prediction on New Dataset\n",
        "\n",
        "12. **Loading Trained Model and Tokenizer**:\n",
        "    - Loads the saved model ('sentiment_lstm_model.h5') and tokenizer ('tokenizer.pickle').\n",
        "\n",
        "13. **Processing New Dataset**:\n",
        "    - Reads another CSV file (`01tweet.csv`) containing new tweets into a Pandas DataFrame (`df_01tweet`).\n",
        "    - Retrieves only the 'text' column from this DataFrame.\n",
        "\n",
        "14. **Tokenization and Padding for New Data**:\n",
        "    - Tokenizes and pads the sequences of new tweets (`texts_01tweet`) using the loaded tokenizer and `pad_sequences`.\n",
        "\n",
        "15. **Sentiment Prediction**:\n",
        "    - Uses the loaded LSTM model to predict sentiment probabilities (`predictions`) for the new tweets.\n",
        "    - Determines the predicted sentiment labels (`predicted_labels`) by selecting the class with the highest probability.\n",
        "\n",
        "### Clustering and Rating\n",
        "\n",
        "16. **Clustering Using K-Means**:\n",
        "    - Applies K-Means clustering to the predicted sentiment probabilities (`predictions`) to group tweets into clusters.\n",
        "    - Uses the elbow method to determine the optimal number of clusters (`optimal_k`) based on the sum of squared distances.\n",
        "\n",
        "17. **Assigning Ratings**:\n",
        "    - Assigns ratings (`1`, `2`, `3`, etc.) to each tweet based on the cluster it belongs to.\n",
        "\n",
        "18. **Output**:\n",
        "    - Constructs a DataFrame (`result_df`) with columns for tweet text, predicted sentiment, assigned cluster, and rating.\n",
        "    - Prints each tweet along with its predicted sentiment and assigned rating.\n",
        "\n",
        "### Visualization\n",
        "\n",
        "19. **Elbow Method Visualization**:\n",
        "    - Plots the sum of squared distances for different numbers of clusters (`K`) to visualize the optimal number of clusters using the elbow method.\n",
        "\n",
        "### Summary\n",
        "\n",
        "This code performs end-to-end tasks for sentiment analysis:\n",
        "- It prepares the data by cleaning and encoding sentiment labels.\n",
        "- Builds and trains an LSTM model for sentiment classification.\n",
        "- Saves the trained model and tokenizer for future use.\n",
        "- Predicts sentiments on new tweets and assigns ratings based on clustering.\n",
        "- Visualizes the elbow method to determine the optimal number of clusters.\n"
      ],
      "metadata": {
        "id": "iJmINTbShjhd"
      }
    },
    {
      "cell_type": "code",
      "source": [
        "import warnings\n",
        "warnings.filterwarnings('ignore') #warnings from colab environment are ignored"
      ],
      "metadata": {
        "id": "M0bKW5VRh0px"
      },
      "execution_count": 21,
      "outputs": []
    },
    {
      "cell_type": "code",
      "execution_count": 22,
      "metadata": {
        "colab": {
          "base_uri": "https://localhost:8080/"
        },
        "id": "TyFlpvaabDAA",
        "outputId": "ed3f7606-5698-4be9-f152-acf1823963ff"
      },
      "outputs": [
        {
          "output_type": "stream",
          "name": "stderr",
          "text": [
            "WARNING:tensorflow:Layer lstm_5 will not use cuDNN kernels since it doesn't meet the criteria. It will use a generic GPU kernel as fallback when running on GPU.\n"
          ]
        },
        {
          "output_type": "stream",
          "name": "stdout",
          "text": [
            "Epoch 1/10\n",
            "183/183 - 49s - loss: 0.7041 - accuracy: 0.7101 - val_loss: 0.5414 - val_accuracy: 0.7930 - 49s/epoch - 266ms/step\n",
            "Epoch 2/10\n",
            "183/183 - 35s - loss: 0.4581 - accuracy: 0.8225 - val_loss: 0.4872 - val_accuracy: 0.8098 - 35s/epoch - 189ms/step\n",
            "Epoch 3/10\n",
            "183/183 - 35s - loss: 0.3544 - accuracy: 0.8660 - val_loss: 0.5144 - val_accuracy: 0.8016 - 35s/epoch - 191ms/step\n",
            "Epoch 4/10\n",
            "183/183 - 42s - loss: 0.2933 - accuracy: 0.8927 - val_loss: 0.5531 - val_accuracy: 0.7947 - 42s/epoch - 227ms/step\n",
            "Epoch 5/10\n",
            "183/183 - 39s - loss: 0.2467 - accuracy: 0.9103 - val_loss: 0.5991 - val_accuracy: 0.8040 - 39s/epoch - 212ms/step\n",
            "Epoch 6/10\n",
            "183/183 - 34s - loss: 0.2168 - accuracy: 0.9213 - val_loss: 0.6323 - val_accuracy: 0.7828 - 34s/epoch - 184ms/step\n",
            "Epoch 7/10\n",
            "183/183 - 35s - loss: 0.1760 - accuracy: 0.9353 - val_loss: 0.7033 - val_accuracy: 0.7865 - 35s/epoch - 190ms/step\n",
            "Epoch 8/10\n",
            "183/183 - 34s - loss: 0.1584 - accuracy: 0.9443 - val_loss: 0.7318 - val_accuracy: 0.7818 - 34s/epoch - 188ms/step\n",
            "Epoch 9/10\n",
            "183/183 - 33s - loss: 0.1351 - accuracy: 0.9507 - val_loss: 0.7945 - val_accuracy: 0.7859 - 33s/epoch - 181ms/step\n",
            "Epoch 10/10\n",
            "183/183 - 45s - loss: 0.1206 - accuracy: 0.9556 - val_loss: 0.8873 - val_accuracy: 0.7872 - 45s/epoch - 243ms/step\n",
            "92/92 - 2s - loss: 0.8873 - accuracy: 0.7872 - 2s/epoch - 26ms/step\n",
            "Test Accuracy: 0.7872267961502075\n",
            "Model and tokenizer saved.\n"
          ]
        }
      ],
      "source": [
        "import pandas as pd\n",
        "import numpy as np\n",
        "import tensorflow as tf\n",
        "from tensorflow.keras.preprocessing.text import Tokenizer\n",
        "from tensorflow.keras.preprocessing.sequence import pad_sequences\n",
        "from tensorflow.keras.models import Sequential\n",
        "from tensorflow.keras.layers import Embedding, LSTM, Dense, SpatialDropout1D\n",
        "from sklearn.model_selection import train_test_split\n",
        "from sklearn.preprocessing import LabelEncoder #imported necessary libraries\n",
        "\n",
        "df = pd.read_csv('/content/Tweets.csv')\n",
        "df = df[['text', 'airline_sentiment']]\n",
        "\n",
        "df.dropna(inplace=True)\n",
        "\n",
        "label_encoder = LabelEncoder()\n",
        "df['airline_sentiment'] = label_encoder.fit_transform(df['airline_sentiment'])\n",
        "\n",
        "X_train, X_test, y_train, y_test = train_test_split(df['text'], df['airline_sentiment'], test_size=0.2, random_state=42)\n",
        "tokenizer = Tokenizer(num_words=5000, lower=True)\n",
        "tokenizer.fit_on_texts(X_train)\n",
        "\n",
        "X_train_seq = tokenizer.texts_to_sequences(X_train)\n",
        "X_test_seq = tokenizer.texts_to_sequences(X_test)\n",
        "\n",
        "max_seq_length = 100\n",
        "X_train_pad = pad_sequences(X_train_seq, maxlen=max_seq_length)\n",
        "X_test_pad = pad_sequences(X_test_seq, maxlen=max_seq_length)\n",
        "\n",
        "model = Sequential()\n",
        "model.add(Embedding(input_dim=5000, output_dim=128, input_length=max_seq_length))\n",
        "model.add(SpatialDropout1D(0.2))\n",
        "model.add(LSTM(100, dropout=0.2, recurrent_dropout=0.2))\n",
        "model.add(Dense(3, activation='softmax'))\n",
        "\n",
        "model.compile(loss='sparse_categorical_crossentropy', optimizer='adam', metrics=['accuracy'])\n",
        "\n",
        "batch_size = 64\n",
        "epochs = 10 #epochs can be adjusted (more epochs are better)\n",
        "history = model.fit(X_train_pad, y_train, epochs=epochs, batch_size=batch_size, validation_data=(X_test_pad, y_test), verbose=2)\n",
        "\n",
        "loss, accuracy = model.evaluate(X_test_pad, y_test, verbose=2)\n",
        "print(f'Test Accuracy: {accuracy}')\n",
        "\n",
        "model.save('sentiment_lstm_model.h5') #saves the model\n",
        "\n",
        "import pickle\n",
        "with open('tokenizer.pickle', 'wb') as handle:\n",
        "    pickle.dump(tokenizer, handle, protocol=pickle.HIGHEST_PROTOCOL)\n",
        "\n",
        "print('Model and tokenizer saved.')\n"
      ]
    },
    {
      "cell_type": "code",
      "source": [
        "import pandas as pd\n",
        "import numpy as np\n",
        "import tensorflow as tf\n",
        "from tensorflow.keras.preprocessing.sequence import pad_sequences\n",
        "model = tf.keras.models.load_model('sentiment_lstm_model.h5')\n",
        "\n",
        "# Load the tokenizer\n",
        "import pickle\n",
        "with open('tokenizer.pickle', 'rb') as handle:\n",
        "    tokenizer = pickle.load(handle)\n"
      ],
      "metadata": {
        "colab": {
          "base_uri": "https://localhost:8080/"
        },
        "id": "OP0FA8LLbgCE",
        "outputId": "f444aa47-b24d-4d8d-f093-7a8567da50c8"
      },
      "execution_count": 23,
      "outputs": [
        {
          "output_type": "stream",
          "name": "stderr",
          "text": [
            "WARNING:tensorflow:Layer lstm_5 will not use cuDNN kernels since it doesn't meet the criteria. It will use a generic GPU kernel as fallback when running on GPU.\n"
          ]
        }
      ]
    },
    {
      "cell_type": "code",
      "source": [
        "#1Tweet Dataset\n",
        "df_01tweet = pd.read_csv('/content/01tweet.csv')\n",
        "texts_01tweet = df_01tweet['text']\n",
        "\n",
        "texts_01tweet_seq = tokenizer.texts_to_sequences(texts_01tweet)\n",
        "max_seq_length = 100\n",
        "texts_01tweet_pad = pad_sequences(texts_01tweet_seq, maxlen=max_seq_length)\n"
      ],
      "metadata": {
        "id": "jwpbaHbIbigK"
      },
      "execution_count": 24,
      "outputs": []
    },
    {
      "cell_type": "code",
      "source": [
        "#Sentiment Prediction\n",
        "predictions = model.predict(texts_01tweet_pad)\n",
        "predicted_labels = np.argmax(predictions, axis=1)\n"
      ],
      "metadata": {
        "colab": {
          "base_uri": "https://localhost:8080/"
        },
        "id": "Hd0iNR-VbkbO",
        "outputId": "7e9939fa-79f2-4951-d6b3-aac333a97da1"
      },
      "execution_count": 25,
      "outputs": [
        {
          "output_type": "stream",
          "name": "stdout",
          "text": [
            "1/1 [==============================] - 0s 220ms/step\n"
          ]
        }
      ]
    },
    {
      "cell_type": "code",
      "source": [
        "import pandas as pd\n",
        "import numpy as np\n",
        "import tensorflow as tf\n",
        "from tensorflow.keras.preprocessing.sequence import pad_sequences\n",
        "\n",
        "model = tf.keras.models.load_model('sentiment_lstm_model.h5')\n",
        "\n",
        "import pickle\n",
        "with open('tokenizer.pickle', 'rb') as handle:\n",
        "    tokenizer = pickle.load(handle)\n",
        "\n",
        "df_01tweet = pd.read_csv('/content/01tweet.csv')\n",
        "texts_01tweet = df_01tweet['text']\n",
        "\n",
        "texts_01tweet_seq = tokenizer.texts_to_sequences(texts_01tweet)\n",
        "max_seq_length = 100\n",
        "texts_01tweet_pad = pad_sequences(texts_01tweet_seq, maxlen=max_seq_length)\n",
        "\n",
        "predictions = model.predict(texts_01tweet_pad)\n",
        "predicted_labels = np.argmax(predictions, axis=1)\n",
        "label_encoder = LabelEncoder()\n",
        "df = pd.read_csv('/content/Tweets.csv')\n",
        "df = df[['text', 'airline_sentiment']]\n",
        "df.dropna(inplace=True)\n",
        "label_encoder.fit(df['airline_sentiment'])\n",
        "sentiment_labels = label_encoder.inverse_transform(predicted_labels)\n",
        "\n",
        "for text, sentiment in zip(texts_01tweet, sentiment_labels):\n",
        "    print(f'Tweet: {text}')\n",
        "    print(f'Predicted Sentiment: {sentiment}')\n",
        "    print('---')"
      ],
      "metadata": {
        "colab": {
          "base_uri": "https://localhost:8080/"
        },
        "id": "ohtC2ZyYbmHy",
        "outputId": "c48eb0d7-3660-497e-ee29-16391e68f24b"
      },
      "execution_count": 26,
      "outputs": [
        {
          "output_type": "stream",
          "name": "stderr",
          "text": [
            "WARNING:tensorflow:Layer lstm_5 will not use cuDNN kernels since it doesn't meet the criteria. It will use a generic GPU kernel as fallback when running on GPU.\n"
          ]
        },
        {
          "output_type": "stream",
          "name": "stdout",
          "text": [
            "1/1 [==============================] - 0s 226ms/step\n",
            "Tweet: @VirginAmerica yes, nearly every time I fly VX this “ear worm” won’t go away :)\n",
            "Predicted Sentiment: positive\n",
            "---\n"
          ]
        }
      ]
    },
    {
      "cell_type": "code",
      "source": [
        "import matplotlib.pyplot as plt\n",
        "from sklearn.cluster import KMeans\n",
        "\n",
        "kmeans_data = predictions\n",
        "\n",
        "sum_of_squared_distances = []\n",
        "K = range(1, 10)\n",
        "for k in K:\n",
        "    kmeans = KMeans(n_clusters=1, random_state=42)\n",
        "    kmeans.fit(kmeans_data)\n",
        "    sum_of_squared_distances.append(kmeans.inertia_)\n",
        "\n",
        "plt.figure(figsize=(8, 6))\n",
        "plt.plot(K, sum_of_squared_distances, 'bx-')\n",
        "plt.xlabel('Number of Clusters (k)')\n",
        "plt.ylabel('Sum of Squared Distances')\n",
        "plt.title('Elbow Method For Optimal k')\n",
        "plt.show()\n"
      ],
      "metadata": {
        "colab": {
          "base_uri": "https://localhost:8080/",
          "height": 564
        },
        "id": "gBiWqe8qfA-E",
        "outputId": "e011ef62-1298-42f6-f943-ae8d483b0b43"
      },
      "execution_count": 27,
      "outputs": [
        {
          "output_type": "display_data",
          "data": {
            "text/plain": [
              "<Figure size 800x600 with 1 Axes>"
            ],
            "image/png": "[encoded data removed]"
          },
          "metadata": {}
        }
      ]
    },
    {
      "cell_type": "code",
      "source": [
        "import pandas as pd\n",
        "import numpy as np\n",
        "import tensorflow as tf\n",
        "from tensorflow.keras.preprocessing.sequence import pad_sequences\n",
        "from sklearn.cluster import KMeans\n",
        "import matplotlib.pyplot as plt\n",
        "from sklearn.preprocessing import LabelEncoder\n",
        "import pickle\n",
        "\n",
        "model = tf.keras.models.load_model('sentiment_lstm_model.h5')\n",
        "with open('tokenizer.pickle', 'rb') as handle:\n",
        "    tokenizer = pickle.load(handle)\n",
        "\n",
        "df_01tweet = pd.read_csv('/content/01tweet.csv')\n",
        "texts_01tweet = df_01tweet['text']\n",
        "\n",
        "texts_01tweet_seq = tokenizer.texts_to_sequences(texts_01tweet)\n",
        "max_seq_length = 100\n",
        "texts_01tweet_pad = pad_sequences(texts_01tweet_seq, maxlen=max_seq_length)\n",
        "\n",
        "predictions = model.predict(texts_01tweet_pad)\n",
        "predicted_labels = np.argmax(predictions, axis=1)\n",
        "\n",
        "kmeans_data = predictions\n",
        "\n",
        "sum_of_squared_distances = []\n",
        "K = range(1, 10)\n",
        "for k in K:\n",
        "    kmeans = KMeans(n_clusters=1, random_state=42)\n",
        "    kmeans.fit(kmeans_data)\n",
        "    sum_of_squared_distances.append(kmeans.inertia_)\n",
        "\n",
        "plt.figure(figsize=(8, 6))\n",
        "plt.plot(K, sum_of_squared_distances, 'bx-')\n",
        "plt.xlabel('Number of Clusters (k)')\n",
        "plt.ylabel('Sum of Squared Distances')\n",
        "plt.title('Elbow Method For Optimal k')\n",
        "plt.show()\n",
        "\n",
        "optimal_k = 3\n",
        "kmeans = KMeans(n_clusters=1, random_state=42)\n",
        "clusters = kmeans.fit_predict(kmeans_data)\n",
        "\n",
        "df = pd.read_csv('/content/Tweets.csv')\n",
        "df = df[['text', 'airline_sentiment']]\n",
        "df.dropna(inplace=True)\n",
        "label_encoder.fit(df['airline_sentiment'])\n",
        "sentiment_labels = label_encoder.inverse_transform(predicted_labels)\n",
        "\n",
        "\n",
        "cluster_ratings = {i: rating for i, rating in enumerate(range(1, optimal_k + 1))}\n",
        "\n",
        "result_df = pd.DataFrame({\n",
        "    'text': texts_01tweet,\n",
        "    'predicted_sentiment': sentiment_labels,\n",
        "    'cluster': clusters,\n",
        "    'rating': [cluster_ratings[cluster] for cluster in clusters]\n",
        "})\n",
        "\n",
        "for index, row in result_df.iterrows():\n",
        "    print(f'Tweet: {row[\"text\"]}')\n",
        "    print(f'Predicted Sentiment: {row[\"predicted_sentiment\"]}')\n",
        "    print(f'Rating: {row[\"rating\"]}')\n",
        "    print('---')\n"
      ],
      "metadata": {
        "colab": {
          "base_uri": "https://localhost:8080/",
          "height": 688
        },
        "id": "_WKfJNMXgV1i",
        "outputId": "aa5e7068-dead-4302-9937-20a4cecb7b3b"
      },
      "execution_count": 28,
      "outputs": [
        {
          "output_type": "stream",
          "name": "stderr",
          "text": [
            "WARNING:tensorflow:Layer lstm_5 will not use cuDNN kernels since it doesn't meet the criteria. It will use a generic GPU kernel as fallback when running on GPU.\n"
          ]
        },
        {
          "output_type": "stream",
          "name": "stdout",
          "text": [
            "1/1 [==============================] - 0s 236ms/step\n"
          ]
        },
        {
          "output_type": "display_data",
          "data": {
            "text/plain": [
              "<Figure size 800x600 with 1 Axes>"
            ],
            "image/png": "[encoded data removed]"
          },
          "metadata": {}
        },
        {
          "output_type": "stream",
          "name": "stdout",
          "text": [
            "Tweet: @VirginAmerica yes, nearly every time I fly VX this “ear worm” won’t go away :)\n",
            "Predicted Sentiment: positive\n",
            "Rating: 1\n",
            "---\n"
          ]
        }
      ]
    }
  ]
}